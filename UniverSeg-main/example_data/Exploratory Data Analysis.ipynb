{
 "cells": [
  {
   "cell_type": "markdown",
   "id": "5e25ea09-74d6-47e6-bad6-e922f52c3532",
   "metadata": {},
   "source": [
    "# Personal Information\n",
    "Name: **Your Name**\n",
    "\n",
    "StudentID: **Your Student ID**\n",
    "\n",
    "Email: [**youremail@student.uva.nl**](youremail@student.uva.nl)\n",
    "\n",
    "Submitted on: **DD.MM.YYYY**"
   ]
  },
  {
   "cell_type": "markdown",
   "id": "e3cf6243-adfe-4eb8-bba3-bb2835079abd",
   "metadata": {},
   "source": [
    "# Data Context\n",
    "**In this section you should introduce the datasources and datasets which you will be working with. Explain where they are from as well as their domain. Give an overview of what the context of the data is. You should not spend more than 1 to 2 paragraphs here as the core information will be in the next section.**"
   ]
  },
  {
   "cell_type": "markdown",
   "id": "a833d964-56e1-49c7-8172-7435357624aa",
   "metadata": {},
   "source": [
    "# Data Description\n",
    "\n",
    "**Present here the results of your exploratory data analysis. Note that there is no need to have a \"story line\" - it is more important that you show your understanding of the data and the methods that you will be using in your experiments (i.e. your methodology).**\n",
    "\n",
    "**As an example, you could show data, label, or group balances, skewness, and basic characterizations of the data. Information about data frequency and distributions as well as results from reduction mechanisms such as PCA could be useful. Furthermore, indicate outliers and how/why you are taking them out of your samples, if you do so.**\n",
    "\n",
    "**The idea is, that you conduct this analysis to a) understand the data better but b) also to verify the shapes of the distributions and whether they meet the assumptions of the methods that you will attempt to use. Finally, make good use of images, diagrams, and tables to showcase what information you have extracted from your data.**\n",
    "\n",
    "As you can see, you are in a jupyter notebook environment here. This means that you should focus little on writing text and more on actually exploring your data. If you need to, you can use the amsmath environment in-line: $e=mc^2$ or also in separate equations such as here:\n",
    "\n",
    "\\begin{equation}\n",
    "    e=mc^2 \\mathrm{\\space where \\space} e,m,c\\in \\mathbb{R}\n",
    "\\end{equation}\n",
    "\n",
    "Furthermore, you can insert images such as your data aggregation diagrams like this:\n",
    "\n",
    "![image](example.png)"
   ]
  },
  {
   "cell_type": "code",
   "execution_count": 20,
   "id": "534317db-d881-4e33-a358-754e2881e8bd",
   "metadata": {},
   "outputs": [],
   "source": [
    "# Imports\n",
    "import os\n",
    "import numpy as np\n",
    "import pandas as pd\n",
    "import scipy.io as sio\n",
    "import matplotlib.pyplot as plt\n",
    "from matplotlib.image import imread, imsave\n",
    "import re\n",
    "from pydicom import dcmread\n"
   ]
  },
  {
   "cell_type": "markdown",
   "id": "b582b299-f599-4140-a454-bcbfdeeb273f",
   "metadata": {},
   "source": [
    "### Data Loading"
   ]
  },
  {
   "cell_type": "code",
   "execution_count": 2,
   "id": "9f0cf9be-2cac-4227-957f-ad893212e70c",
   "metadata": {},
   "outputs": [],
   "source": [
    "def load_coordinates(output_file_path, index):\n",
    "    try:\n",
    "        output_data = sio.loadmat(output_file_path)\n",
    "        coordinates_iwp = output_data['output']['Inner_with_Papillary_Muscles'][0, index]\n",
    "        coordinates_iwop = output_data['output']['Inner_without_Papillary_Muscles'][0, index]\n",
    "        coordinates_out = output_data['output']['Outer'][0, index]\n",
    "        return coordinates_iwp, coordinates_iwop, coordinates_out\n",
    "    except IndexError:\n",
    "        return None, None, None"
   ]
  },
  {
   "cell_type": "code",
   "execution_count": 3,
   "id": "d96a2de2",
   "metadata": {},
   "outputs": [],
   "source": [
    "def plot_image_with_coordinates(input_image, coordinates_iwp, coordinates_iwop, coordinates_out, image_width,\n",
    "                                image_height, save_path, filename, index):\n",
    "    if coordinates_iwp is None or coordinates_iwop is None or coordinates_out is None:\n",
    "        return  # Skip if coordinates are None\n",
    "    #Normalizing the coordinates\n",
    "    for nested_coordinates_iwp, nested_coordinates_iwop, nested_coordinates_out in zip(coordinates_iwp[0],\n",
    "                                                                                       coordinates_iwop[0],\n",
    "                                                                                       coordinates_out[0]):\n",
    "        scaled_coordinates_iwp = nested_coordinates_iwp * np.array([image_width / 255, image_height / 255])\n",
    "        scaled_coordinates_iwop = nested_coordinates_iwop * np.array([image_width / 255, image_height / 255])\n",
    "        scaled_coordinates_out = nested_coordinates_out * np.array([image_width / 255, image_height / 255])\n",
    "\n",
    "        plt.imshow(input_image, cmap='gray')\n",
    "        plt.plot(scaled_coordinates_iwp[:, 0], scaled_coordinates_iwp[:, 1], c='red', marker='.',\n",
    "                 label='Inner with Papillary Muscles')\n",
    "        plt.plot(scaled_coordinates_iwop[:, 0], scaled_coordinates_iwop[:, 1], c='blue', marker='.',\n",
    "                 label='Inner without Papillary Muscles')\n",
    "        plt.plot(scaled_coordinates_out[:, 0], scaled_coordinates_out[:, 1], c='green', marker='.',\n",
    "                 label='Outer contour')\n",
    "        plt.xlabel('X')\n",
    "        plt.ylabel('Y')\n",
    "        plt.title('Input Image with Coordinates - ' + filename + '_' + str(index))\n",
    "        plt.legend()\n",
    "        plt.savefig(os.path.join(save_path, filename + '_' + str(index) + '.png'))\n",
    "        plt.close()"
   ]
  },
  {
   "cell_type": "code",
   "execution_count": 15,
   "id": "e828fd47",
   "metadata": {},
   "outputs": [],
   "source": [
    "# Input paths Cynthia\n",
    "#input_folder_path = r\"/mnt/c/Users/cinth/Documentos/ams/data_science/actual_thesis/codes/UniverSeg-main/UniverSeg-main/example_data/Training/\"\n",
    "#output_folder_path = r\"/mnt/c/Users/cinth/Documentos/ams/data_science/actual_thesis/codes/UniverSeg-main/UniverSeg-main/example_data/Training/results\"\n",
    "# Input paths Eveline\n",
    "input_folder_path = \"C:\\\\Users\\\\eveli\\\\OneDrive\\\\Documenten\\\\GitHub\\\\UniverSeg-eda\\\\UniverSeg-main\\\\example_data\\\\Training\\\\\"\n",
    "output_folder_path = \"C:\\\\Users\\\\eveli\\\\OneDrive\\\\Documenten\\\\GitHub\\\\UniverSeg-eda\\\\UniverSeg-main\\\\example_data\\\\Training\\\\results\""
   ]
  },
  {
   "cell_type": "code",
   "execution_count": 16,
   "id": "244b8a83",
   "metadata": {},
   "outputs": [],
   "source": [
    "# Create the output folder if it doesn't exist and remove existing images\n",
    "if os.path.exists(output_folder_path):\n",
    "    for filename in os.listdir(output_folder_path):\n",
    "        os.remove(os.path.join(output_folder_path, filename))\n",
    "else:\n",
    "    os.makedirs(output_folder_path)"
   ]
  },
  {
   "cell_type": "code",
   "execution_count": 18,
   "id": "51523ecc",
   "metadata": {},
   "outputs": [],
   "source": [
    "# Loop over all files in the input folder\n",
    "for filename in os.listdir(input_folder_path):\n",
    "    if re.match(r\"I\\d+\\.mat\", filename):\n",
    "        input_file_path = os.path.join(input_folder_path, filename)\n",
    "\n",
    "        output_file_path = os.path.join(input_folder_path, \"O\" + filename[1:])  # Matching output file name\n",
    "        data = sio.loadmat(input_file_path)\n",
    "        I_header = data['I']\n",
    "        tframe_data = I_header['tframe'][0][0]\n",
    "\n",
    "        # Extract the number of the I file\n",
    "        file_number = filename[1:-4]\n",
    "\n",
    "        # Loop over all images in 'dicom' array\n",
    "        for j, dicom_data in enumerate(tframe_data['dicom'][0], start=0):\n",
    "            imsave('image.png', dicom_data, cmap='gray')\n",
    "            # Load the input image\n",
    "            input_image_path = 'image.png'\n",
    "            input_image = imread(input_image_path)\n",
    "            image_height, image_width = input_image.shape[:2]\n",
    "\n",
    "            # Load the coordinates\n",
    "            coordinates_iwp, coordinates_iwop, coordinates_out = load_coordinates(output_file_path, j)\n",
    "            plot_image_with_coordinates(input_image, coordinates_iwp, coordinates_iwop, coordinates_out, image_width,\n",
    "                                        image_height, output_folder_path, 'image_I' + file_number, j)\n"
   ]
  },
  {
   "cell_type": "markdown",
   "id": "b4df9546-a6d7-4678-aca6-cd13d5f3c79a",
   "metadata": {},
   "source": [
    "### Analysis 1: \n",
    "Print different input images to see what the data looks like."
   ]
  },
  {
   "cell_type": "code",
   "execution_count": 3,
   "id": "a889a6c7-aed8-4a0f-9925-c4f8e2fce1d5",
   "metadata": {},
   "outputs": [],
   "source": []
  },
  {
   "cell_type": "markdown",
   "id": "c2b796dc-f69d-4686-b802-bd0d8f679ee8",
   "metadata": {},
   "source": [
    "### Analysis 2: \n",
    "Data shape"
   ]
  },
  {
   "cell_type": "code",
   "execution_count": 4,
   "id": "c33b453f-1bc2-4cad-8021-e548d307f154",
   "metadata": {},
   "outputs": [],
   "source": [
    "# ..."
   ]
  },
  {
   "cell_type": "markdown",
   "id": "f273bea3-ecaa-4fac-83d0-5fe547b7873d",
   "metadata": {},
   "source": [
    "### Analysis 3:\n",
    "Number of images and check for for duplicates"
   ]
  },
  {
   "cell_type": "markdown",
   "id": "c6c755d0",
   "metadata": {},
   "source": [
    "### Analysis 4: \n",
    "Image Id and encoded pixels"
   ]
  },
  {
   "cell_type": "markdown",
   "id": "04e5b019",
   "metadata": {},
   "source": [
    "### Analysis 5:\n",
    "Select area of segmentation"
   ]
  },
  {
   "cell_type": "markdown",
   "id": "4e3f8a91",
   "metadata": {},
   "source": [
    "### Analysis 6:\n",
    "Run encoding"
   ]
  },
  {
   "cell_type": "markdown",
   "id": "33d995b9",
   "metadata": {},
   "source": [
    "### Analysis 7:\n",
    "Check metadata"
   ]
  },
  {
   "cell_type": "markdown",
   "id": "2c2397b1",
   "metadata": {},
   "source": [
    "### Analysis 8:"
   ]
  }
 ],
 "metadata": {
  "kernelspec": {
   "display_name": "Python 3 (ipykernel)",
   "language": "python",
   "name": "python3"
  },
  "language_info": {
   "codemirror_mode": {
    "name": "ipython",
    "version": 3
   },
   "file_extension": ".py",
   "mimetype": "text/x-python",
   "name": "python",
   "nbconvert_exporter": "python",
   "pygments_lexer": "ipython3",
   "version": "3.11.5"
  },
  "vscode": {
   "interpreter": {
    "hash": "f4bc7a400e35f160b13ed52195005e41b219907c1be09b125a1c17e685484faa"
   }
  }
 },
 "nbformat": 4,
 "nbformat_minor": 5
}
